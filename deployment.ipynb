{
 "cells": [
  {
   "cell_type": "markdown",
   "metadata": {},
   "source": [
    "<h1><center><img src=\"https://www.kdnuggets.com/wp-content/uploads/sagar-pneumonia-0.jpeg\" /></center></h1> \n",
    "\n",
    "Pneumonia is a dangerous infection that affects one or both lungs. It causes the air sacs, or alveoli, of the lungs to fill up with fluid or pus. Severe pneumonia, if not dignosed prompty, may result in fever, chills, and trouble breathing.\n",
    "\n",
    "Pneumonia is especially deadly in developing nations where billions face energy poverty and rely on polluting forms of energy. The WHO estimates that over 4 million premature deaths occur annually from household air pollution-related diseases including pneumonia. Over 150 million people get infected with pneumonia on an annual basis especially children under 5 years old. In such regions, the problem can be further aggravated due to the dearth of medical resources and personnel. For example, in Africa’s 57 nations, a gap of 2.3 million doctors and nurses exists. For these populations, accurate and fast diagnosis means everything. It can guarantee timely access to treatment and save much needed time and money for those already experiencing poverty.\n",
    "\n",
    "In developed countries such as Singapore, patients who are suspected of having pneumonia in emergency departments receive chest X-rays. The images are created in a quick process, but having them read can be time-consuming. The process can take 20 minutes or more, which can delay the start of antibiotics to fight the infection.\n",
    "\n",
    "The quick diagnosis allowed physicians to accurately confirm and start a treatment plan for pneumonia more quickly than with current clinical practice.\n",
    "\n",
    "I hope that with the help of machine learning, it can help to improve the quality of pneumonia care in hospitals, from improving diagnostic accuracy to reducing time to diagnosis. \n",
    "\n",
    "Even more importantly, in developing countries where medical professionals such as radiologists are scarce, machine learning could become the key to low cost, high accuracy solutions.\n",
    "\n",
    "\n",
    "\n",
    "### Mini Widget for pneumonia detection via xray images\n",
    "\n",
    "The base model is a resnet18. From there, it was fine-tuned for pneumonia detection via xray images. \n",
    "The model is able to achieve an **overall accuracy** and **recall score** of ***96%*** on 6000 images found [here](https://www.kaggle.com/paultimothymooney/chest-xray-pneumonia).\n",
    "\n",
    "This is an excellent result, which is higher than some of the results published in journals [^1]. For that I am very pleased with the results.\n",
    "\n",
    "In the future, I hope to improve on this model to be able to differentiate between bacterial and viral pneumonia. I'll also try to reduce false negative rates because the cost of having a pneumonia case is very high.\n"
   ]
  },
  {
   "cell_type": "markdown",
   "metadata": {},
   "source": [
    "\n",
    "\n",
    "---\n",
    "## Pneumonia Classifer\n",
    "upload an image using the 'upload' button and click 'classify' to view the results"
   ]
  },
  {
   "cell_type": "code",
   "execution_count": 16,
   "metadata": {},
   "outputs": [],
   "source": [
    "from fastai.vision.all import load_learner, PILImage\n",
    "from fastai.vision.widgets import widgets, VBox"
   ]
  },
  {
   "cell_type": "code",
   "execution_count": 12,
   "metadata": {
    "scrolled": true
   },
   "outputs": [],
   "source": [
    "learn_inf = load_learner('export.pkl')"
   ]
  },
  {
   "cell_type": "code",
   "execution_count": 13,
   "metadata": {
    "scrolled": false
   },
   "outputs": [],
   "source": [
    "def on_click_classify(change):\n",
    "    img = PILImage.create(btn_upload.data[-1])\n",
    "    out_pl.clear_output()\n",
    "    with out_pl: display(img.to_thumb(128,128))\n",
    "    pred,pred_idx,probs = learn_inf.predict(img)\n",
    "    lbl_pred.value = f'Prediction: {pred}; Probability: {probs[pred_idx]:.04f}'"
   ]
  },
  {
   "cell_type": "code",
   "execution_count": 18,
   "metadata": {},
   "outputs": [
    {
     "data": {
      "application/vnd.jupyter.widget-view+json": {
       "model_id": "303c5573394141ea85ac9158c31491fb",
       "version_major": 2,
       "version_minor": 0
      },
      "text/plain": [
       "VBox(children=(FileUpload(value={}, description='Upload'), Button(description='Classify', style=ButtonStyle())…"
      ]
     },
     "metadata": {},
     "output_type": "display_data"
    }
   ],
   "source": [
    "btn_run = widgets.Button(description='Classify')\n",
    "btn_run.on_click(on_click_classify)\n",
    "btn_upload = widgets.FileUpload()\n",
    "out_pl = widgets.Output()\n",
    "lbl_pred = widgets.Label()\n",
    "VBox([btn_upload, btn_run, out_pl, lbl_pred])"
   ]
  },
  {
   "cell_type": "markdown",
   "metadata": {},
   "source": [
    "[^1]: 93.73% results from a group of researchers [link](https://www.hindawi.com/journals/jhe/2019/4180949/)"
   ]
  }
 ],
 "metadata": {
  "kernelspec": {
   "display_name": "Python 3",
   "language": "python",
   "name": "python3"
  },
  "language_info": {
   "codemirror_mode": {
    "name": "ipython",
    "version": 3
   },
   "file_extension": ".py",
   "mimetype": "text/x-python",
   "name": "python",
   "nbconvert_exporter": "python",
   "pygments_lexer": "ipython3",
   "version": "3.8.6"
  }
 },
 "nbformat": 4,
 "nbformat_minor": 4
}
